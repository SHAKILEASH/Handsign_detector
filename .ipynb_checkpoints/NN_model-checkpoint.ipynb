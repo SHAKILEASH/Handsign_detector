{
 "cells": [
  {
   "cell_type": "code",
   "execution_count": 1,
   "metadata": {},
   "outputs": [],
   "source": [
    "import math\n",
    "import numpy as np\n",
    "import h5py\n",
    "import matplotlib.pyplot as plt\n",
    "import tensorflow as tf\n",
    "from tensorflow.python.framework import ops\n",
    "#from tf_utils import load_dataset, random_mini_batches, convert_to_one_hot, predict\n",
    "\n",
    "%matplotlib inline\n",
    "np.random.seed(1)"
   ]
  },
  {
   "cell_type": "code",
   "execution_count": 2,
   "metadata": {},
   "outputs": [],
   "source": [
    "\n",
    "def load_data():\n",
    "    train = h5py.File(\"datasets/train_signs.h5\" , \"r\")\n",
    "    test = h5py.File(\"datasets/test_signs.h5\" , \"r\")\n",
    "    train_set_x = np.array(train[\"train_set_x\"][:]) \n",
    "    train_set_y = np.array(train[\"train_set_y\"][:])\n",
    "    test_set_x = np.array(test[\"test_set_x\"][:])\n",
    "    test_set_y = np.array(test[\"test_set_y\"][:])\n",
    "\n",
    "    num_classes = np.array(test[\"list_classes\"][:])\n",
    "    print(train_set_y.shape)\n",
    "    train_set_y = train_set_y.reshape(1,train_set_y.shape[0])\n",
    "    test_set_y = test_set_y.reshape(1,test_set_y.shape[0])\n",
    "    return train_set_x,train_set_y,test_set_x,test_set_y,num_classes "
   ]
  },
  {
   "cell_type": "code",
   "execution_count": 3,
   "metadata": {},
   "outputs": [],
   "source": [
    "def random_mini_batches(X, Y, batch_size = 64, seed = 0):\n",
    "    \n",
    "    m = X.shape[1]                  # number of training examples\n",
    "    mini_batches = []\n",
    "    np.random.seed(seed)\n",
    "    \n",
    "    # Step 1: Shuffle (X, Y)\n",
    "    permutation = list(np.random.permutation(m))\n",
    "    shuffled_x = X[:, permutation]\n",
    "    shuffled_y = Y[:,permutation].reshape((Y.shape[0],m))\n",
    "    no_mini_batch = np.floor(m/batch_size)\n",
    "    \n",
    "    for i in range(0,int(no_mini_batch)):\n",
    "        mini_x = shuffled_x[:,i*batch_size:(i+1)*batch_size]\n",
    "        mini_y = shuffled_y[:,batch_size*i:batch_size*(i+1)]\n",
    "        mini_batch = (mini_x,mini_y)\n",
    "        mini_batches.append(mini_batch)\n",
    "    \n",
    "    if m%batch_size != 0:\n",
    "        mini_x = shuffled_x[:,batch_size*(i+1):]\n",
    "        mini_y = shuffled_y[:,batch_size*(i+1):]\n",
    "        mini_batch = (mini_x,mini_y)\n",
    "        mini_batches.append(mini_batch)\n",
    "    \n",
    "    return mini_batches\n"
   ]
  },
  {
   "cell_type": "code",
   "execution_count": 4,
   "metadata": {},
   "outputs": [],
   "source": [
    "def convert_to_one_hot(Y, C):\n",
    "    Y = np.eye(C)[Y.reshape(-1)].T\n",
    "    return Y\n"
   ]
  },
  {
   "cell_type": "code",
   "execution_count": 5,
   "metadata": {},
   "outputs": [],
   "source": [
    "def create_placeholders(n_x,n_y):\n",
    "    \n",
    "    X = tf.placeholder(tf.float32,[n_x,None],name = 'X')\n",
    "    Y = tf.placeholder(tf.float32,[n_y,None],name = \"Y\")\n",
    "    return X,Y"
   ]
  },
  {
   "cell_type": "code",
   "execution_count": 6,
   "metadata": {},
   "outputs": [],
   "source": [
    "def initialize_parameters(layer_dims):\n",
    "    tf.set_random_seed(1)\n",
    "    n = len(layer_dims)\n",
    "    parameters = {}\n",
    "    for l in range(0,n):\n",
    "        print(l)\n",
    "        if l != len(layer_dims)-1:\n",
    "            parameters[\"W\" + str(l+1)] = tf.get_variable(\"W\"+str(l+1),[layer_dims[l],layer_dims[l+1]],initializer = tf.contrib.layers.xavier_initializer(seed = 1))\n",
    "            parameters[\"b\"+str(l+1)] = tf.get_variable(\"b\"+str(l+1),[layer_dims[l+1],1],initializer = tf.zeros_initializer())\n",
    "    \n",
    "    return parameters    "
   ]
  },
  {
   "cell_type": "code",
   "execution_count": 16,
   "metadata": {},
   "outputs": [],
   "source": [
    "def compute_cost(Z3,Y):\n",
    "    \n",
    "    logits = tf.transpose(Z3)\n",
    "    labels = tf.transpose(Y)\n",
    "    \n",
    "    cost = tf.reduce_mean(tf.nn.softmax_cross_entropy_with_logits(logits = logits,labels = labels))\n",
    "    #print(type(cost),type(Y))\n",
    "    return cost\n"
   ]
  },
  {
   "cell_type": "code",
   "execution_count": 8,
   "metadata": {},
   "outputs": [],
   "source": [
    "def forward_propagation(X,parameters,layer_dims):\n",
    "    n = len(layer_dims)\n",
    "    A = X\n",
    "    for l in range(1,n):\n",
    "        Z = tf.add(tf.matmul(tf.transpose(parameters[\"W\"+str(l)]),A),parameters[\"b\"+str(l)])\n",
    "        A = tf.nn.relu(Z)\n",
    "        \n",
    "    return Z  "
   ]
  },
  {
   "cell_type": "code",
   "execution_count": 10,
   "metadata": {},
   "outputs": [
    {
     "name": "stdout",
     "output_type": "stream",
     "text": [
      "(1080,)\n",
      "y = 2\n"
     ]
    },
    {
     "data": {
      "image/png": "[encoded data removed]",
      "text/plain": [
       "<Figure size 432x288 with 1 Axes>"
      ]
     },
     "metadata": {
      "needs_background": "light"
     },
     "output_type": "display_data"
    }
   ],
   "source": [
    "train_set_x_or,train_set_y_or,test_set_x_or,test_set_y_or,classes = load_data()\n",
    "# Example of a picture\n",
    "index = 4\n",
    "plt.imshow(train_set_x_or[index])\n",
    "print (\"y = \" + str(np.squeeze(train_set_y_or[:, index])))"
   ]
  },
  {
   "cell_type": "code",
   "execution_count": 17,
   "metadata": {},
   "outputs": [
    {
     "name": "stdout",
     "output_type": "stream",
     "text": [
      "number of training examples = 1080\n",
      "number of test examples = 120\n",
      "X_train shape: (12288, 1080)\n",
      "Y_train shape: (6, 1080)\n",
      "X_test shape: (12288, 120)\n",
      "Y_test shape: (6, 120)\n"
     ]
    }
   ],
   "source": [
    "# Flatten the training and test images\n",
    "train_set_x_F = train_set_x_or.reshape(train_set_x_or.shape[0],-1).T\n",
    "test_set_x_F = test_set_x_or.reshape(test_set_x_or.shape[0],-1).T\n",
    "train_set_x = train_set_x_F/255\n",
    "test_set_x = test_set_x_F/255\n",
    "\n",
    "train_set_y = convert_to_one_hot(train_set_y_or,len(classes))\n",
    "test_set_y = convert_to_one_hot(test_set_y_or,len(classes))\n",
    "print (\"number of training examples = \" + str(train_set_x.shape[1]))\n",
    "print (\"number of test examples = \" + str(test_set_x.shape[1]))\n",
    "print (\"X_train shape: \" + str(train_set_x.shape))\n",
    "print (\"Y_train shape: \" + str(train_set_y.shape))\n",
    "print (\"X_test shape: \" + str(test_set_x.shape))\n",
    "print (\"Y_test shape: \" + str(test_set_y.shape))"
   ]
  },
  {
   "cell_type": "code",
   "execution_count": 12,
   "metadata": {},
   "outputs": [],
   "source": [
    "def model(X_train, Y_train, X_test, Y_test,layer_dims, learning_rate = 0.0001,\n",
    "          num_epochs = 1500, minibatch_size = 32, print_cost = True):\n",
    " \n",
    "    \n",
    "    ops.reset_default_graph()                         # to be able to rerun the model without overwriting tf variables\n",
    "    tf.set_random_seed(1)                             # to keep consistent results\n",
    "    seed = 3\n",
    "    (n_x,m) = X_train.shape\n",
    "    n_y = X_train.shape[0]\n",
    "    costs = []                                      # To keep track of the cost\n",
    "    \n",
    "    X,Y = create_placeholders(layer_dims[0],layer_dims[-1])\n",
    "    parameters = initialize_parameters(layer_dims)\n",
    "    Z = forward_propagation(X,parameters,layer_dims)\n",
    "    cost = compute_cost(Z,Y)\n",
    "\n",
    "    optimizer = tf.train.AdamOptimizer(learning_rate = learning_rate).minimize(cost)\n",
    "\n",
    "    init = tf.global_variables_initializer()\n",
    "\n",
    "    with tf.Session() as sess:\n",
    "        \n",
    "        sess.run(init)\n",
    "        \n",
    "        for epoch in range(num_epochs):\n",
    "            seed = seed+1\n",
    "            epoch_cost = 0\n",
    "            num_minibatches = int(m / minibatch_size)\n",
    "            mini_batches = random_mini_batches(X_train, Y_train, minibatch_size, seed)\n",
    "            \n",
    "            for mini_batch in mini_batches:\n",
    "\n",
    "                (mini_X, mini_Y) = mini_batch\n",
    "                _ , minibatch_cost = sess.run([optimizer,cost],feed_dict = {X:mini_X,Y:mini_Y})\n",
    "                \n",
    "                epoch_cost += minibatch_cost / minibatch_size\n",
    "\n",
    "            \n",
    "            if print_cost == True and epoch % 100 == 0:\n",
    "                print (\"Cost after epoch %i: %f\" % (epoch, epoch_cost))\n",
    "            if print_cost == True and epoch % 5 == 0:\n",
    "                costs.append(epoch_cost)\n",
    "\n",
    "        plt.plot(np.squeeze(costs))\n",
    "        plt.ylabel('cost')\n",
    "        plt.xlabel('iterations (per fives)')\n",
    "        plt.title(\"Learning rate =\" + str(learning_rate))\n",
    "        plt.show()\n",
    "\n",
    "        parameters = sess.run(parameters)\n",
    "        print (\"Parameters have been trained!\")\n",
    "\n",
    "        correct_prediction = tf.equal(tf.argmax(Z), tf.argmax(Y))\n",
    "        accuracy = tf.reduce_mean(tf.cast(correct_prediction, \"float\"))\n",
    "\n",
    "        print (\"Train Accuracy:\", accuracy.eval({X: X_train, Y: Y_train}))\n",
    "        print (\"Test Accuracy:\", accuracy.eval({X: X_test, Y: Y_test}))\n",
    "        \n",
    "        return parameters"
   ]
  },
  {
   "cell_type": "code",
   "execution_count": 18,
   "metadata": {},
   "outputs": [
    {
     "name": "stdout",
     "output_type": "stream",
     "text": [
      "0\n",
      "1\n",
      "2\n",
      "3\n",
      "Cost after epoch 0: 1.908839\n",
      "Cost after epoch 100: 1.111498\n",
      "Cost after epoch 200: 0.931953\n",
      "Cost after epoch 300: 0.808296\n",
      "Cost after epoch 400: 0.712835\n",
      "Cost after epoch 500: 0.640899\n",
      "Cost after epoch 600: 0.573177\n",
      "Cost after epoch 700: 0.525571\n",
      "Cost after epoch 800: 0.473039\n",
      "Cost after epoch 900: 0.426061\n",
      "Cost after epoch 1000: 0.385647\n",
      "Cost after epoch 1100: 0.348708\n",
      "Cost after epoch 1200: 0.323798\n",
      "Cost after epoch 1300: 0.270183\n",
      "Cost after epoch 1400: 0.241845\n"
     ]
    },
    {
     "data": {
      "image/png": "[encoded data removed]",
      "text/plain": [
       "<Figure size 432x288 with 1 Axes>"
      ]
     },
     "metadata": {
      "needs_background": "light"
     },
     "output_type": "display_data"
    },
    {
     "name": "stdout",
     "output_type": "stream",
     "text": [
      "Parameters have been trained!\n",
      "Train Accuracy: 0.9388889\n",
      "Test Accuracy: 0.75\n"
     ]
    }
   ],
   "source": [
    "layer_dims = [12288,25,12,6]\n",
    "parameters = model(train_set_x,train_set_y,test_set_x,test_set_y,layer_dims)"
   ]
  },
  {
   "cell_type": "code",
   "execution_count": null,
   "metadata": {},
   "outputs": [],
   "source": []
  }
 ],
 "metadata": {
  "kernelspec": {
   "display_name": "Python 3",
   "language": "python",
   "name": "python3"
  },
  "language_info": {
   "codemirror_mode": {
    "name": "ipython",
    "version": 3
   },
   "file_extension": ".py",
   "mimetype": "text/x-python",
   "name": "python",
   "nbconvert_exporter": "python",
   "pygments_lexer": "ipython3",
   "version": "3.7.4"
  }
 },
 "nbformat": 4,
 "nbformat_minor": 2
}
